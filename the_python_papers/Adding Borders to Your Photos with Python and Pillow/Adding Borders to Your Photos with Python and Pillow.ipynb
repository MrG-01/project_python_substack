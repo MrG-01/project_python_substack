{
 "cells": [
  {
   "cell_type": "markdown",
   "id": "f1f62e46-2cfa-4d94-be54-a6e66f9e288f",
   "metadata": {},
   "source": [
    "### Adding Borders to Your Photos with Python and Pillow\n",
    "\n",
    "[2025-04-08](https://www.pythonpapers.com/p/adding-borders-to-your-photos-with?r=4jixo5)"
   ]
  },
  {
   "cell_type": "code",
   "execution_count": 3,
   "id": "b59d28a5-861e-4549-9902-03a81c6c942f",
   "metadata": {},
   "outputs": [],
   "source": [
    "## Add a black border to an image\n",
    "\n",
    "from PIL import Image, ImageOps\n",
    "\n",
    "def add_border(input_image, output_image, border):\n",
    "\n",
    "    img=Image.open(input_image)\n",
    "\n",
    "    if isinstance(border, int) or isinstance(border, tuple):\n",
    "        bimg = ImageOps.expand(img, border=border)\n",
    "\n",
    "    else:\n",
    "        raise RunTimeError('Border is not an integer or tuple!')\n",
    "\n",
    "    bimg.save(output_image)\n",
    "\n",
    "if __name__ == '__main__':\n",
    "    in_img = 'butterfly_grey.jpg'\n",
    "\n",
    "    add_border(in_img, output_image='butterfly_border.jpg',\n",
    "               border=(10,50))"
   ]
  },
  {
   "cell_type": "code",
   "execution_count": 5,
   "id": "834b65e0-239b-45cd-a16b-b86d0d473043",
   "metadata": {},
   "outputs": [],
   "source": [
    "## Add a colored border to an image\n",
    "\n",
    "from PIL import Image, ImageOps\n",
    "\n",
    "def add_border(input_image, output_image, border, color=0):\n",
    "\n",
    "    img=Image.open(input_image)\n",
    "\n",
    "    if isinstance(border, int) or isinstance(border, tuple):\n",
    "        bimg = ImageOps.expand(img,\n",
    "                               border=border,\n",
    "                              fill=color)\n",
    "\n",
    "    else:\n",
    "        msg = 'Border is not an integer or tuple!'\n",
    "        raise RunTimeError(msg)\n",
    "\n",
    "    bimg.save(output_image)\n",
    "\n",
    "if __name__ == '__main__':\n",
    "    in_img = 'butterfly_grey.jpg'\n",
    "\n",
    "    add_border(in_img, output_image='butterfly_border_red.jpg',\n",
    "               border=100,\n",
    "               color = 'indianred')"
   ]
  }
 ],
 "metadata": {
  "kernelspec": {
   "display_name": "Python 3 (ipykernel)",
   "language": "python",
   "name": "python3"
  },
  "language_info": {
   "codemirror_mode": {
    "name": "ipython",
    "version": 3
   },
   "file_extension": ".py",
   "mimetype": "text/x-python",
   "name": "python",
   "nbconvert_exporter": "python",
   "pygments_lexer": "ipython3",
   "version": "3.12.9"
  }
 },
 "nbformat": 4,
 "nbformat_minor": 5
}
